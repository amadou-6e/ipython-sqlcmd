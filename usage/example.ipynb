{
 "cells": [
  {
   "cell_type": "markdown",
   "metadata": {},
   "source": [
    "# SQL Command Magic Usage Example\n",
    "\n",
    "This notebook demonstrates how to use the SQL Command Magic extension for IPython/Jupyter."
   ]
  },
  {
   "cell_type": "code",
   "execution_count": 21,
   "metadata": {},
   "outputs": [
    {
     "data": {
      "text/plain": [
       "True"
      ]
     },
     "execution_count": 21,
     "metadata": {},
     "output_type": "execute_result"
    }
   ],
   "source": [
    "from dotenv import load_dotenv\n",
    "load_dotenv()"
   ]
  },
  {
   "cell_type": "code",
   "execution_count": 22,
   "metadata": {},
   "outputs": [
    {
     "name": "stdout",
     "output_type": "stream",
     "text": [
      "The sqlcmd extension is already loaded. To reload it, use:\n",
      "  %reload_ext sqlcmd\n"
     ]
    }
   ],
   "source": [
    "# Load the extension\n",
    "%load_ext sqlcmd\n",
    "import os"
   ]
  },
  {
   "cell_type": "code",
   "execution_count": 31,
   "metadata": {},
   "outputs": [
    {
     "name": "stdout",
     "output_type": "stream",
     "text": [
      "Connection string set: mssql+sqlcmd:///?odbc_connect=DRIVER%3D%7BODBC+Driver+17+for+SQL+Server%7D%3BSERVER%3Dlocalhost%3BDATABASE%3Dmaster%3BUID%3Dsa%3BPWD%3Dmypassword1234%21%3BEncrypt%3Dyes%3BTrustServerCertificate%3Dyes%3B\n",
      "Parsed connection info: {'server': 'localhost', 'database': 'master', 'username': 'sa', 'password': '***'}\n"
     ]
    }
   ],
   "source": [
    "# Set the connection string\n",
    "# %sqlcmd 'mssql+sqlcmd:///?odbc_connect=SERVER=yourserver;DATABASE=yourdatabase;UID=username;PWD=password'\n",
    "%sqlcmd master --server=localhost --username=sa --password={os.getenv('SSMS_PASSWORD')} --encrypt --trust-certificate"
   ]
  },
  {
   "cell_type": "markdown",
   "metadata": {},
   "source": [
    "## Basic Query\n",
    "\n",
    "Execute a simple SQL query:"
   ]
  },
  {
   "cell_type": "code",
   "execution_count": 37,
   "metadata": {},
   "outputs": [
    {
     "name": "stdout",
     "output_type": "stream",
     "text": [
      "\n",
      "Executing query 1/1:\n",
      "Query file: C:\\Users\\acisse\\sqlcmd_magic_cache\\sql_batches_1741354318\\batch_0.sql\n",
      "SQL content:\n",
      " |SELECT TOP 10 *\n",
      " |FROM sys.tables\n",
      " |ORDER BY name\n",
      "Command: sqlcmd -s\"|\" -S localhost -d master -U sa -P mypassword1234! -b -i \"C:\\Users\\acisse\\sqlcmd_magic_cache\\sql_batches_1741354318\\batch_0.sql\" -f 65001 -r 1 -W\n",
      "Sqlcmd: Error: Microsoft ODBC Driver 17 for SQL Server : Login failed for user 'sa'..\n",
      "\n",
      "\n",
      "Batch files preserved in: C:\\Users\\acisse\\sqlcmd_magic_cache\\sql_batches_1741354318\n"
     ]
    }
   ],
   "source": [
    "%%sqlcmd --debug\n",
    "SELECT TOP 10 *\n",
    "FROM sys.tables\n",
    "ORDER BY name"
   ]
  },
  {
   "cell_type": "code",
   "execution_count": 42,
   "metadata": {},
   "outputs": [
    {
     "name": "stderr",
     "output_type": "stream",
     "text": [
      "Sqlcmd: Error: Microsoft ODBC Driver 17 for SQL Server : Login failed for user 'sa'..\n"
     ]
    }
   ],
   "source": [
    "!sqlcmd -s\"|\" -S localhost -d master -U sa -P mypassword1234! -b -i \"C:\\Users\\acisse\\sqlcmd_magic_cache\\sql_batches_1741354318\\batch_0.sql\" -f 65001 -r 1 -W"
   ]
  },
  {
   "cell_type": "code",
   "execution_count": 33,
   "metadata": {},
   "outputs": [
    {
     "name": "stdout",
     "output_type": "stream",
     "text": [
      "Sqlcmd: Error: Microsoft ODBC Driver 17 for SQL Server : Login failed for user 'sa'..\n",
      "\n"
     ]
    }
   ],
   "source": [
    "%%sqlcmd\n",
    "CREATE TABLE TestSpaces (\n",
    "    ID int,\n",
    "    Description varchar(100),  -- This column will have spaces\n",
    "    Code varchar(20)\n",
    ");\n",
    "\n",
    "INSERT INTO TestSpaces (ID, Description, Code) \n",
    "VALUES \n",
    "    (1, 'This has spaces', 'A1'),\n",
    "    (2, 'Another spaced value', 'B2'),\n",
    "    (3, 'No spaces', 'C3');\n",
    "\n",
    "-- Query the table to see the output\n",
    "SELECT * FROM TestSpaces;"
   ]
  },
  {
   "cell_type": "markdown",
   "metadata": {},
   "source": [
    "## Using Variables\n",
    "\n",
    "You can use Python variables in your SQL queries:"
   ]
  },
  {
   "cell_type": "code",
   "execution_count": 34,
   "metadata": {},
   "outputs": [],
   "source": [
    "# Define some variables\n",
    "table_name = \"sys.tables\"\n",
    "limit = 5"
   ]
  },
  {
   "cell_type": "code",
   "execution_count": 35,
   "metadata": {},
   "outputs": [
    {
     "name": "stdout",
     "output_type": "stream",
     "text": [
      "Sqlcmd: Error: Microsoft ODBC Driver 17 for SQL Server : Login failed for user 'sa'..\n",
      "\n"
     ]
    }
   ],
   "source": [
    "%%sqlcmd\n",
    "SELECT TOP $limit *\n",
    "FROM $table_name\n",
    "ORDER BY name"
   ]
  },
  {
   "cell_type": "markdown",
   "metadata": {},
   "source": [
    "## Debug Mode\n",
    "\n",
    "Use debug mode to see details about query execution:"
   ]
  },
  {
   "cell_type": "code",
   "execution_count": 36,
   "metadata": {},
   "outputs": [
    {
     "name": "stdout",
     "output_type": "stream",
     "text": [
      "\n",
      "Executing query 1/1:\n",
      "Query file: C:\\Users\\acisse\\sqlcmd_magic_cache\\sql_batches_1741354310\\batch_0.sql\n",
      "SQL content:\n",
      " |SELECT @@VERSION AS SQLServerVersion\n",
      "Command: sqlcmd -s\"|\" -S localhost -d master -U sa -P mypassword1234! -b -i \"C:\\Users\\acisse\\sqlcmd_magic_cache\\sql_batches_1741354310\\batch_0.sql\" -f 65001 -r 1 -W\n",
      "Sqlcmd: Error: Microsoft ODBC Driver 17 for SQL Server : Login failed for user 'sa'..\n",
      "\n",
      "\n",
      "Batch files preserved in: C:\\Users\\acisse\\sqlcmd_magic_cache\\sql_batches_1741354310\n"
     ]
    }
   ],
   "source": [
    "%%sqlcmd --debug\n",
    "SELECT @@VERSION AS SQLServerVersion"
   ]
  },
  {
   "cell_type": "markdown",
   "metadata": {},
   "source": [
    "## Multiple Batches\n",
    "\n",
    "Execute multiple SQL batches separated by GO statements:"
   ]
  },
  {
   "cell_type": "code",
   "execution_count": 29,
   "metadata": {},
   "outputs": [
    {
     "name": "stdout",
     "output_type": "stream",
     "text": [
      "Sqlcmd: Error: Microsoft ODBC Driver 17 for SQL Server : Login failed for user 'sa'..\n",
      "\n"
     ]
    }
   ],
   "source": [
    "%%sqlcmd\n",
    "SELECT DB_NAME() AS CurrentDatabase\n",
    "GO\n",
    "SELECT @@SERVERNAME AS ServerName"
   ]
  }
 ],
 "metadata": {
  "kernelspec": {
   "display_name": "sqlcmd-magic-dev",
   "language": "python",
   "name": "python3"
  },
  "language_info": {
   "codemirror_mode": {
    "name": "ipython",
    "version": 3
   },
   "file_extension": ".py",
   "mimetype": "text/x-python",
   "name": "python",
   "nbconvert_exporter": "python",
   "pygments_lexer": "ipython3",
   "version": "3.9.21"
  }
 },
 "nbformat": 4,
 "nbformat_minor": 4
}
