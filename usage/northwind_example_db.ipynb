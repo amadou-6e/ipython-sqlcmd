{
 "cells": [
  {
   "cell_type": "markdown",
   "metadata": {},
   "source": [
    "# Supercharge Your Jupyter Notebook: SQL Command Magic for IPython\n",
    "\n",
    "Jupyter Notebooks are a powerful tool for data analysis, but working with databases inside them has often been cumbersome. Wouldn’t it be great if you could seamlessly run SQL queries against Microsoft SQL Server inside your notebook—without switching environments? \n",
    "\n",
    "Meet **SQL Command Magic for IPython**, an IPython extension that integrates **sqlcmd** directly into your Jupyter workflow. With this extension, you can execute SQL commands effortlessly, connect to databases dynamically, and even run SQL scripts—all from your notebook.\n",
    "\n",
    "## The Problem: Setting Up a Sample Database\n",
    "\n",
    "I was working on a tutorial notebook that required a **real database** to demonstrate SQL queries. However, setting up a Microsoft SQL Server instance with test data inside Jupyter turned out to be a hassle. Installing drivers, configuring connections, and loading data manually was tedious. \n",
    "\n",
    "That’s when I decided to **build a solution**: SQL Command Magic.\n",
    "\n",
    "Now, with a few commands, you can:\n",
    "✅ Connect to SQL Server effortlessly.  \n",
    "✅ Execute SQL queries directly in Jupyter/IPython.  \n",
    "✅ Run SQL commands in batches using `GO` statements.  \n",
    "✅ Execute external SQL scripts seamlessly.  \n",
    "✅ Substitute Python variables inside SQL queries.  \n",
    "✅ Enable debugging to analyze execution details.  \n",
    "\n",
    "## Getting Started\n",
    "\n",
    "Let's explore how to use the ipython extension.\n",
    "\n",
    "**Installation**:  \n",
    "Install SQL Command Magic via pip:"
   ]
  },
  {
   "cell_type": "code",
   "execution_count": null,
   "metadata": {},
   "outputs": [],
   "source": [
    "pip install sqlcmd-magic"
   ]
  },
  {
   "cell_type": "markdown",
   "metadata": {},
   "source": [
    "Ensure that `sqlcmd` is installed and accessible in your system’s PATH. If you haven’t installed it, check out Microsoft’s [official sqlcmd documentation](https://docs.microsoft.com/en-us/sql/tools/sqlcmd-utility) to get started.\n",
    "\n",
    "\n",
    "**Loading the Extension**:  \n",
    "To enable the extension in an IPython or Jupyter Notebook session, simply run:\n"
   ]
  },
  {
   "cell_type": "code",
   "execution_count": null,
   "metadata": {},
   "outputs": [],
   "source": [
    "%load_ext sqlcmd"
   ]
  },
  {
   "cell_type": "markdown",
   "metadata": {},
   "source": [
    "The extension is now loaded to your environment and ready to use.\n",
    "\n",
    "## Connecting to the Northwind Database\n",
    "\n",
    "Instead of setting up a new database manually, let’s work with **Northwind**, a classic SQL Server sample database. First, we need to connect to the server. Fil out the username with the username for SQL authentication to your DB and add the `SSMS_PASSWORD` to the .env file in this directory:"
   ]
  },
  {
   "cell_type": "code",
   "execution_count": null,
   "metadata": {},
   "outputs": [],
   "source": [
    "import os\n",
    "password = os.getenv(\"SSMS_PASSWORD\")\n",
    "username = \"sa\""
   ]
  },
  {
   "cell_type": "markdown",
   "metadata": {},
   "source": [
    "Now, let's connect:"
   ]
  },
  {
   "cell_type": "code",
   "execution_count": null,
   "metadata": {},
   "outputs": [
    {
     "name": "stdout",
     "output_type": "stream",
     "text": [
      "Connection string set: mssql+sqlcmd:///?odbc_connect=DRIVER%3D%7BODBC+Driver+17+for+SQL+Server%7D%3BSERVER%3Dlocalhost%3BDATABASE%3Dmaster%3BUID%3Dsa%3BPWD%3Dmypassword1234%21%3BEncrypt%3Dyes%3BTrustServerCertificate%3Dyes%3B\n",
      "Parsed connection info: {'server': 'localhost', 'database': 'master', 'username': 'sa', 'password': '***'}\n"
     ]
    }
   ],
   "source": [
    "%sqlcmd master --server=localhost --username={username} --password={password}"
   ]
  },
  {
   "cell_type": "markdown",
   "metadata": {},
   "source": [
    "Using the cell magic, we can create the database:"
   ]
  },
  {
   "cell_type": "code",
   "execution_count": null,
   "metadata": {},
   "outputs": [],
   "source": [
    "%%sqlcmd\n",
    "IF NOT EXISTS (SELECT name FROM sys.databases WHERE name = 'Northwind')\n",
    "BEGIN\n",
    "    CREATE DATABASE Northwind;\n",
    "END;"
   ]
  },
  {
   "cell_type": "markdown",
   "metadata": {},
   "source": [
    "Let's check wether we were successfull:"
   ]
  },
  {
   "cell_type": "code",
   "execution_count": null,
   "metadata": {},
   "outputs": [
    {
     "data": {
      "text/html": [
       "<div>\n",
       "<style scoped>\n",
       "    .dataframe tbody tr th:only-of-type {\n",
       "        vertical-align: middle;\n",
       "    }\n",
       "\n",
       "    .dataframe tbody tr th {\n",
       "        vertical-align: top;\n",
       "    }\n",
       "\n",
       "    .dataframe thead th {\n",
       "        text-align: right;\n",
       "    }\n",
       "</style>\n",
       "<table border=\"1\" class=\"dataframe\">\n",
       "  <thead>\n",
       "    <tr style=\"text-align: right;\">\n",
       "      <th></th>\n",
       "      <th>name</th>\n",
       "      <th>database_id</th>\n",
       "      <th>create_date</th>\n",
       "    </tr>\n",
       "  </thead>\n",
       "  <tbody>\n",
       "    <tr>\n",
       "      <th>0</th>\n",
       "      <td>Northwind</td>\n",
       "      <td>5</td>\n",
       "      <td>2024-11-15 14:17:07.740</td>\n",
       "    </tr>\n",
       "  </tbody>\n",
       "</table>\n",
       "</div>"
      ],
      "text/plain": [
       "        name database_id              create_date\n",
       "0  Northwind           5  2024-11-15 14:17:07.740"
      ]
     },
     "metadata": {},
     "output_type": "display_data"
    },
    {
     "name": "stdout",
     "output_type": "stream",
     "text": [
      "\n",
      "(1 rows affected)\n",
      "Changed database context to 'Northwind'.\n",
      "\n"
     ]
    }
   ],
   "source": [
    "%%sqlcmd \n",
    "SELECT name, database_id, create_date FROM sys.databases WHERE name = 'Northwind';\n",
    "GO\n",
    "USE Northwind;\n",
    "GO"
   ]
  },
  {
   "cell_type": "markdown",
   "metadata": {},
   "source": [
    "## Downloading and the logical backup and creating the DB\n",
    "\n",
    "The microsof server samples github holds an complete logical backup script of the database. We can run the script on the server to completely initializa and fill the database. First, let's download the logical backup:"
   ]
  },
  {
   "cell_type": "code",
   "execution_count": null,
   "metadata": {},
   "outputs": [
    {
     "name": "stderr",
     "output_type": "stream",
     "text": [
      "  % Total    % Received % Xferd  Average Speed   Time    Time     Time  Current\n",
      "                                 Dload  Upload   Total   Spent    Left  Speed\n",
      "\n",
      "  0     0    0     0    0     0      0      0 --:--:-- --:--:-- --:--:--     0\n",
      "100 1025k  100 1025k    0     0  1847k      0 --:--:-- --:--:-- --:--:-- 1853k\n"
     ]
    }
   ],
   "source": [
    "!curl -o instnwnd.sql https://raw.githubusercontent.com/microsoft/sql-server-samples/master/samples/databases/northwind-pubs/instnwnd.sql"
   ]
  },
  {
   "cell_type": "markdown",
   "metadata": {},
   "source": [
    "We can now execute the script using the `EXECUTE_SQL_FILE` command. The command is not a SQL command, but part of the ipython-sqlcmd python package. It can only be executed on the top scope of any SQL cell, that is outside of `BEGIN ... END` blocks:"
   ]
  },
  {
   "cell_type": "code",
   "execution_count": null,
   "metadata": {},
   "outputs": [
    {
     "name": "stdout",
     "output_type": "stream",
     "text": [
      "output\n",
      "------\n",
      "NULL\n",
      "(1 rows affected)\n",
      "executing script at c:\\Users\\acisse\\OneDrive - bridgingIT-Gruppe\\003_CodeWorkspace\\001_cookbooks\\azure-cookbook\\011-data-factory-python-sdks\\instnwnd.sql\n",
      "\n"
     ]
    }
   ],
   "source": [
    "%%sqlcmd\n",
    "EXECUTE_SQL_FILE 'instnwnd.sql'"
   ]
  },
  {
   "cell_type": "markdown",
   "metadata": {},
   "source": [
    "\n",
    "## Running Queries on Northwind\n",
    "\n",
    "Now that we have a working **Northwind** database, let’s explore its data. After running, we can check wether the tables have been initiated correctly:"
   ]
  },
  {
   "cell_type": "code",
   "execution_count": null,
   "metadata": {},
   "outputs": [
    {
     "data": {
      "text/html": [
       "<div>\n",
       "<style scoped>\n",
       "    .dataframe tbody tr th:only-of-type {\n",
       "        vertical-align: middle;\n",
       "    }\n",
       "\n",
       "    .dataframe tbody tr th {\n",
       "        vertical-align: top;\n",
       "    }\n",
       "\n",
       "    .dataframe thead th {\n",
       "        text-align: right;\n",
       "    }\n",
       "</style>\n",
       "<table border=\"1\" class=\"dataframe\">\n",
       "  <thead>\n",
       "    <tr style=\"text-align: right;\">\n",
       "      <th></th>\n",
       "      <th>CustomerID</th>\n",
       "      <th>CompanyName</th>\n",
       "      <th>ContactName</th>\n",
       "      <th>ContactTitle</th>\n",
       "      <th>Address</th>\n",
       "      <th>City</th>\n",
       "      <th>Region</th>\n",
       "      <th>PostalCode</th>\n",
       "      <th>Country</th>\n",
       "      <th>Phone</th>\n",
       "      <th>Fax</th>\n",
       "    </tr>\n",
       "  </thead>\n",
       "  <tbody>\n",
       "    <tr>\n",
       "      <th>0</th>\n",
       "      <td>ALFKI</td>\n",
       "      <td>Alfreds Futterkiste</td>\n",
       "      <td>Maria Anders</td>\n",
       "      <td>Sales Representative</td>\n",
       "      <td>Obere Str. 57</td>\n",
       "      <td>Berlin</td>\n",
       "      <td>None</td>\n",
       "      <td>12209</td>\n",
       "      <td>Germany</td>\n",
       "      <td>030-0074321</td>\n",
       "      <td>030-0076545</td>\n",
       "    </tr>\n",
       "    <tr>\n",
       "      <th>1</th>\n",
       "      <td>ANATR</td>\n",
       "      <td>Ana Trujillo Emparedados y helados</td>\n",
       "      <td>Ana Trujillo</td>\n",
       "      <td>Owner</td>\n",
       "      <td>Avda. de la Constitución 2222</td>\n",
       "      <td>México D.F.</td>\n",
       "      <td>None</td>\n",
       "      <td>05021</td>\n",
       "      <td>Mexico</td>\n",
       "      <td>(5) 555-4729</td>\n",
       "      <td>(5) 555-3745</td>\n",
       "    </tr>\n",
       "    <tr>\n",
       "      <th>2</th>\n",
       "      <td>ANTON</td>\n",
       "      <td>Antonio Moreno Taquería</td>\n",
       "      <td>Antonio Moreno</td>\n",
       "      <td>Owner</td>\n",
       "      <td>Mataderos  2312</td>\n",
       "      <td>México D.F.</td>\n",
       "      <td>None</td>\n",
       "      <td>05023</td>\n",
       "      <td>Mexico</td>\n",
       "      <td>(5) 555-3932</td>\n",
       "      <td>None</td>\n",
       "    </tr>\n",
       "    <tr>\n",
       "      <th>3</th>\n",
       "      <td>AROUT</td>\n",
       "      <td>Around the Horn</td>\n",
       "      <td>Thomas Hardy</td>\n",
       "      <td>Sales Representative</td>\n",
       "      <td>120 Hanover Sq.</td>\n",
       "      <td>London</td>\n",
       "      <td>None</td>\n",
       "      <td>WA1 1DP</td>\n",
       "      <td>UK</td>\n",
       "      <td>(171) 555-7788</td>\n",
       "      <td>(171) 555-6750</td>\n",
       "    </tr>\n",
       "    <tr>\n",
       "      <th>4</th>\n",
       "      <td>BERGS</td>\n",
       "      <td>Berglunds snabbköp</td>\n",
       "      <td>Christina Berglund</td>\n",
       "      <td>Order Administrator</td>\n",
       "      <td>Berguvsvägen  8</td>\n",
       "      <td>Luleå</td>\n",
       "      <td>None</td>\n",
       "      <td>S-958 22</td>\n",
       "      <td>Sweden</td>\n",
       "      <td>0921-12 34 65</td>\n",
       "      <td>0921-12 34 67</td>\n",
       "    </tr>\n",
       "  </tbody>\n",
       "</table>\n",
       "</div>"
      ],
      "text/plain": [
       "  CustomerID                         CompanyName         ContactName  \\\n",
       "0      ALFKI                 Alfreds Futterkiste        Maria Anders   \n",
       "1      ANATR  Ana Trujillo Emparedados y helados        Ana Trujillo   \n",
       "2      ANTON             Antonio Moreno Taquería      Antonio Moreno   \n",
       "3      AROUT                     Around the Horn        Thomas Hardy   \n",
       "4      BERGS                  Berglunds snabbköp  Christina Berglund   \n",
       "\n",
       "           ContactTitle                        Address         City Region  \\\n",
       "0  Sales Representative                  Obere Str. 57       Berlin   None   \n",
       "1                 Owner  Avda. de la Constitución 2222  México D.F.   None   \n",
       "2                 Owner                Mataderos  2312  México D.F.   None   \n",
       "3  Sales Representative                120 Hanover Sq.       London   None   \n",
       "4   Order Administrator                Berguvsvägen  8        Luleå   None   \n",
       "\n",
       "  PostalCode  Country           Phone             Fax  \n",
       "0      12209  Germany     030-0074321     030-0076545  \n",
       "1      05021   Mexico    (5) 555-4729    (5) 555-3745  \n",
       "2      05023   Mexico    (5) 555-3932            None  \n",
       "3    WA1 1DP       UK  (171) 555-7788  (171) 555-6750  \n",
       "4   S-958 22   Sweden   0921-12 34 65   0921-12 34 67  "
      ]
     },
     "metadata": {},
     "output_type": "display_data"
    },
    {
     "name": "stdout",
     "output_type": "stream",
     "text": [
      "\n",
      "(5 rows affected)\n"
     ]
    }
   ],
   "source": [
    "%%sqlcmd \n",
    "SELECT TOP 5 * FROM Customers;"
   ]
  },
  {
   "cell_type": "markdown",
   "metadata": {},
   "source": [
    "Now, let's query the Products Table"
   ]
  },
  {
   "cell_type": "code",
   "execution_count": null,
   "metadata": {},
   "outputs": [
    {
     "data": {
      "text/html": [
       "<div>\n",
       "<style scoped>\n",
       "    .dataframe tbody tr th:only-of-type {\n",
       "        vertical-align: middle;\n",
       "    }\n",
       "\n",
       "    .dataframe tbody tr th {\n",
       "        vertical-align: top;\n",
       "    }\n",
       "\n",
       "    .dataframe thead th {\n",
       "        text-align: right;\n",
       "    }\n",
       "</style>\n",
       "<table border=\"1\" class=\"dataframe\">\n",
       "  <thead>\n",
       "    <tr style=\"text-align: right;\">\n",
       "      <th></th>\n",
       "      <th>ProductID</th>\n",
       "      <th>ProductName</th>\n",
       "      <th>SupplierID</th>\n",
       "      <th>CategoryID</th>\n",
       "      <th>QuantityPerUnit</th>\n",
       "      <th>UnitPrice</th>\n",
       "      <th>UnitsInStock</th>\n",
       "      <th>UnitsOnOrder</th>\n",
       "      <th>ReorderLevel</th>\n",
       "      <th>Discontinued</th>\n",
       "    </tr>\n",
       "  </thead>\n",
       "  <tbody>\n",
       "    <tr>\n",
       "      <th>0</th>\n",
       "      <td>1</td>\n",
       "      <td>Chai</td>\n",
       "      <td>1</td>\n",
       "      <td>1</td>\n",
       "      <td>10 boxes x 20 bags</td>\n",
       "      <td>18.0000</td>\n",
       "      <td>39</td>\n",
       "      <td>0</td>\n",
       "      <td>10</td>\n",
       "      <td>0</td>\n",
       "    </tr>\n",
       "    <tr>\n",
       "      <th>1</th>\n",
       "      <td>2</td>\n",
       "      <td>Chang</td>\n",
       "      <td>1</td>\n",
       "      <td>1</td>\n",
       "      <td>24 - 12 oz bottles</td>\n",
       "      <td>19.0000</td>\n",
       "      <td>17</td>\n",
       "      <td>40</td>\n",
       "      <td>25</td>\n",
       "      <td>0</td>\n",
       "    </tr>\n",
       "    <tr>\n",
       "      <th>2</th>\n",
       "      <td>3</td>\n",
       "      <td>Aniseed Syrup</td>\n",
       "      <td>1</td>\n",
       "      <td>2</td>\n",
       "      <td>12 - 550 ml bottles</td>\n",
       "      <td>10.0000</td>\n",
       "      <td>13</td>\n",
       "      <td>70</td>\n",
       "      <td>25</td>\n",
       "      <td>0</td>\n",
       "    </tr>\n",
       "    <tr>\n",
       "      <th>3</th>\n",
       "      <td>4</td>\n",
       "      <td>Chef Anton's Cajun Seasoning</td>\n",
       "      <td>2</td>\n",
       "      <td>2</td>\n",
       "      <td>48 - 6 oz jars</td>\n",
       "      <td>22.0000</td>\n",
       "      <td>53</td>\n",
       "      <td>0</td>\n",
       "      <td>0</td>\n",
       "      <td>0</td>\n",
       "    </tr>\n",
       "    <tr>\n",
       "      <th>4</th>\n",
       "      <td>5</td>\n",
       "      <td>Chef Anton's Gumbo Mix</td>\n",
       "      <td>2</td>\n",
       "      <td>2</td>\n",
       "      <td>36 boxes</td>\n",
       "      <td>21.3500</td>\n",
       "      <td>0</td>\n",
       "      <td>0</td>\n",
       "      <td>0</td>\n",
       "      <td>1</td>\n",
       "    </tr>\n",
       "  </tbody>\n",
       "</table>\n",
       "</div>"
      ],
      "text/plain": [
       "  ProductID                   ProductName SupplierID CategoryID  \\\n",
       "0         1                          Chai          1          1   \n",
       "1         2                         Chang          1          1   \n",
       "2         3                 Aniseed Syrup          1          2   \n",
       "3         4  Chef Anton's Cajun Seasoning          2          2   \n",
       "4         5        Chef Anton's Gumbo Mix          2          2   \n",
       "\n",
       "       QuantityPerUnit UnitPrice UnitsInStock UnitsOnOrder ReorderLevel  \\\n",
       "0   10 boxes x 20 bags   18.0000           39            0           10   \n",
       "1   24 - 12 oz bottles   19.0000           17           40           25   \n",
       "2  12 - 550 ml bottles   10.0000           13           70           25   \n",
       "3       48 - 6 oz jars   22.0000           53            0            0   \n",
       "4             36 boxes   21.3500            0            0            0   \n",
       "\n",
       "  Discontinued  \n",
       "0            0  \n",
       "1            0  \n",
       "2            0  \n",
       "3            0  \n",
       "4            1  "
      ]
     },
     "metadata": {},
     "output_type": "display_data"
    },
    {
     "name": "stdout",
     "output_type": "stream",
     "text": [
      "\n",
      "(5 rows affected)\n"
     ]
    }
   ],
   "source": [
    "%%sqlcmd \n",
    "SELECT TOP 5 * FROM Products;"
   ]
  },
  {
   "cell_type": "markdown",
   "metadata": {},
   "source": [
    "### Debug Mode for Troubleshooting\n",
    "Want to see exactly what’s happening under the hood? Use the `--debug` flag."
   ]
  },
  {
   "cell_type": "code",
   "execution_count": null,
   "metadata": {},
   "outputs": [],
   "source": [
    "%%sqlcmd --debug\n",
    "SELECT TOP 5 * FROM Products;"
   ]
  },
  {
   "cell_type": "markdown",
   "metadata": {},
   "source": [
    "This helps diagnose issues in real time. You can CTRL + Click the file path to inspect the executed file.\n",
    "\n",
    "## Why Use SQL Command Magic?\n",
    "\n",
    "- **Seamless SQL Execution:**  \n",
    "Write SQL inside notebooks without external scripts.\n",
    "- **Reproducibility:**  \n",
    "Keep SQL queries embedded with analysis code.\n",
    "- **Enhanced Debugging:**  \n",
    "Debugging tools make troubleshooting easy.\n",
    "- **Integration:**  \n",
    "Works smoothly with Pandas and other Python data tools.\n",
    "\n",
    "## Conclusion\n",
    "\n",
    "SQL Command Magic for IPython bridges the gap between Jupyter and SQL Server. Whether you are analyzing data, automating database tasks, or teaching SQL, this tool makes it effortless. "
   ]
  }
 ],
 "metadata": {
  "kernelspec": {
   "display_name": "011-data-factory-python-sdks",
   "language": "python",
   "name": "python3"
  },
  "language_info": {
   "codemirror_mode": {
    "name": "ipython",
    "version": 3
   },
   "file_extension": ".py",
   "mimetype": "text/x-python",
   "name": "python",
   "nbconvert_exporter": "python",
   "pygments_lexer": "ipython3",
   "version": "3.11.10"
  }
 },
 "nbformat": 4,
 "nbformat_minor": 2
}
